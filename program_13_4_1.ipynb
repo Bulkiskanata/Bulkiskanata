{
  "cells": [
    {
      "cell_type": "markdown",
      "metadata": {
        "id": "view-in-github",
        "colab_type": "text"
      },
      "source": [
        "<a href=\"https://colab.research.google.com/github/Bulkiskanata/Bulkiskanata/blob/main/program_13_4_1.ipynb\" target=\"_parent\"><img src=\"https://colab.research.google.com/assets/colab-badge.svg\" alt=\"Open In Colab\"/></a>"
      ]
    },
    {
      "cell_type": "code",
      "source": [
        "from google.colab import files\n",
        "\n",
        "# Upload file Esc50_features_extracted.csv\n",
        "uploaded = files.upload()"
      ],
      "metadata": {
        "colab": {
          "base_uri": "https://localhost:8080/",
          "height": 73
        },
        "id": "wLsgaQDgfH64",
        "outputId": "1508cf11-23e1-48ae-d283-ace967547567"
      },
      "execution_count": 6,
      "outputs": [
        {
          "output_type": "display_data",
          "data": {
            "text/plain": [
              "<IPython.core.display.HTML object>"
            ],
            "text/html": [
              "\n",
              "     <input type=\"file\" id=\"files-eb7444d1-7209-4006-9998-00448da99161\" name=\"files[]\" multiple disabled\n",
              "        style=\"border:none\" />\n",
              "     <output id=\"result-eb7444d1-7209-4006-9998-00448da99161\">\n",
              "      Upload widget is only available when the cell has been executed in the\n",
              "      current browser session. Please rerun this cell to enable.\n",
              "      </output>\n",
              "      <script>// Copyright 2017 Google LLC\n",
              "//\n",
              "// Licensed under the Apache License, Version 2.0 (the \"License\");\n",
              "// you may not use this file except in compliance with the License.\n",
              "// You may obtain a copy of the License at\n",
              "//\n",
              "//      http://www.apache.org/licenses/LICENSE-2.0\n",
              "//\n",
              "// Unless required by applicable law or agreed to in writing, software\n",
              "// distributed under the License is distributed on an \"AS IS\" BASIS,\n",
              "// WITHOUT WARRANTIES OR CONDITIONS OF ANY KIND, either express or implied.\n",
              "// See the License for the specific language governing permissions and\n",
              "// limitations under the License.\n",
              "\n",
              "/**\n",
              " * @fileoverview Helpers for google.colab Python module.\n",
              " */\n",
              "(function(scope) {\n",
              "function span(text, styleAttributes = {}) {\n",
              "  const element = document.createElement('span');\n",
              "  element.textContent = text;\n",
              "  for (const key of Object.keys(styleAttributes)) {\n",
              "    element.style[key] = styleAttributes[key];\n",
              "  }\n",
              "  return element;\n",
              "}\n",
              "\n",
              "// Max number of bytes which will be uploaded at a time.\n",
              "const MAX_PAYLOAD_SIZE = 100 * 1024;\n",
              "\n",
              "function _uploadFiles(inputId, outputId) {\n",
              "  const steps = uploadFilesStep(inputId, outputId);\n",
              "  const outputElement = document.getElementById(outputId);\n",
              "  // Cache steps on the outputElement to make it available for the next call\n",
              "  // to uploadFilesContinue from Python.\n",
              "  outputElement.steps = steps;\n",
              "\n",
              "  return _uploadFilesContinue(outputId);\n",
              "}\n",
              "\n",
              "// This is roughly an async generator (not supported in the browser yet),\n",
              "// where there are multiple asynchronous steps and the Python side is going\n",
              "// to poll for completion of each step.\n",
              "// This uses a Promise to block the python side on completion of each step,\n",
              "// then passes the result of the previous step as the input to the next step.\n",
              "function _uploadFilesContinue(outputId) {\n",
              "  const outputElement = document.getElementById(outputId);\n",
              "  const steps = outputElement.steps;\n",
              "\n",
              "  const next = steps.next(outputElement.lastPromiseValue);\n",
              "  return Promise.resolve(next.value.promise).then((value) => {\n",
              "    // Cache the last promise value to make it available to the next\n",
              "    // step of the generator.\n",
              "    outputElement.lastPromiseValue = value;\n",
              "    return next.value.response;\n",
              "  });\n",
              "}\n",
              "\n",
              "/**\n",
              " * Generator function which is called between each async step of the upload\n",
              " * process.\n",
              " * @param {string} inputId Element ID of the input file picker element.\n",
              " * @param {string} outputId Element ID of the output display.\n",
              " * @return {!Iterable<!Object>} Iterable of next steps.\n",
              " */\n",
              "function* uploadFilesStep(inputId, outputId) {\n",
              "  const inputElement = document.getElementById(inputId);\n",
              "  inputElement.disabled = false;\n",
              "\n",
              "  const outputElement = document.getElementById(outputId);\n",
              "  outputElement.innerHTML = '';\n",
              "\n",
              "  const pickedPromise = new Promise((resolve) => {\n",
              "    inputElement.addEventListener('change', (e) => {\n",
              "      resolve(e.target.files);\n",
              "    });\n",
              "  });\n",
              "\n",
              "  const cancel = document.createElement('button');\n",
              "  inputElement.parentElement.appendChild(cancel);\n",
              "  cancel.textContent = 'Cancel upload';\n",
              "  const cancelPromise = new Promise((resolve) => {\n",
              "    cancel.onclick = () => {\n",
              "      resolve(null);\n",
              "    };\n",
              "  });\n",
              "\n",
              "  // Wait for the user to pick the files.\n",
              "  const files = yield {\n",
              "    promise: Promise.race([pickedPromise, cancelPromise]),\n",
              "    response: {\n",
              "      action: 'starting',\n",
              "    }\n",
              "  };\n",
              "\n",
              "  cancel.remove();\n",
              "\n",
              "  // Disable the input element since further picks are not allowed.\n",
              "  inputElement.disabled = true;\n",
              "\n",
              "  if (!files) {\n",
              "    return {\n",
              "      response: {\n",
              "        action: 'complete',\n",
              "      }\n",
              "    };\n",
              "  }\n",
              "\n",
              "  for (const file of files) {\n",
              "    const li = document.createElement('li');\n",
              "    li.append(span(file.name, {fontWeight: 'bold'}));\n",
              "    li.append(span(\n",
              "        `(${file.type || 'n/a'}) - ${file.size} bytes, ` +\n",
              "        `last modified: ${\n",
              "            file.lastModifiedDate ? file.lastModifiedDate.toLocaleDateString() :\n",
              "                                    'n/a'} - `));\n",
              "    const percent = span('0% done');\n",
              "    li.appendChild(percent);\n",
              "\n",
              "    outputElement.appendChild(li);\n",
              "\n",
              "    const fileDataPromise = new Promise((resolve) => {\n",
              "      const reader = new FileReader();\n",
              "      reader.onload = (e) => {\n",
              "        resolve(e.target.result);\n",
              "      };\n",
              "      reader.readAsArrayBuffer(file);\n",
              "    });\n",
              "    // Wait for the data to be ready.\n",
              "    let fileData = yield {\n",
              "      promise: fileDataPromise,\n",
              "      response: {\n",
              "        action: 'continue',\n",
              "      }\n",
              "    };\n",
              "\n",
              "    // Use a chunked sending to avoid message size limits. See b/62115660.\n",
              "    let position = 0;\n",
              "    do {\n",
              "      const length = Math.min(fileData.byteLength - position, MAX_PAYLOAD_SIZE);\n",
              "      const chunk = new Uint8Array(fileData, position, length);\n",
              "      position += length;\n",
              "\n",
              "      const base64 = btoa(String.fromCharCode.apply(null, chunk));\n",
              "      yield {\n",
              "        response: {\n",
              "          action: 'append',\n",
              "          file: file.name,\n",
              "          data: base64,\n",
              "        },\n",
              "      };\n",
              "\n",
              "      let percentDone = fileData.byteLength === 0 ?\n",
              "          100 :\n",
              "          Math.round((position / fileData.byteLength) * 100);\n",
              "      percent.textContent = `${percentDone}% done`;\n",
              "\n",
              "    } while (position < fileData.byteLength);\n",
              "  }\n",
              "\n",
              "  // All done.\n",
              "  yield {\n",
              "    response: {\n",
              "      action: 'complete',\n",
              "    }\n",
              "  };\n",
              "}\n",
              "\n",
              "scope.google = scope.google || {};\n",
              "scope.google.colab = scope.google.colab || {};\n",
              "scope.google.colab._files = {\n",
              "  _uploadFiles,\n",
              "  _uploadFilesContinue,\n",
              "};\n",
              "})(self);\n",
              "</script> "
            ]
          },
          "metadata": {}
        },
        {
          "output_type": "stream",
          "name": "stdout",
          "text": [
            "Saving Esc50_features_extracted.csv to Esc50_features_extracted.csv\n"
          ]
        }
      ]
    },
    {
      "cell_type": "code",
      "source": [
        "import pandas as pd\n",
        "\n",
        "# Memuat dataset setelah upload\n",
        "metadata = pd.read_csv('Esc50_features_extracted.csv')  # Pastikan nama file sesuai\n",
        "print(metadata.head())  # Menampilkan beberapa baris pertama dari dataset"
      ],
      "metadata": {
        "colab": {
          "base_uri": "https://localhost:8080/"
        },
        "id": "2lc8aKg1fY_r",
        "outputId": "0a50a5d0-272d-47e9-919c-ca9dfaeac4c3"
      },
      "execution_count": 7,
      "outputs": [
        {
          "output_type": "stream",
          "name": "stdout",
          "text": [
            "   Unnamed: 0           filename  fold  target        category  esc10  \\\n",
            "0           0   1-100032-A-0.wav     1       0             dog   True   \n",
            "1           1  1-100038-A-14.wav     1      14  chirping_birds  False   \n",
            "2           2  1-100210-A-36.wav     1      36  vacuum_cleaner  False   \n",
            "3           3  1-100210-B-36.wav     1      36  vacuum_cleaner  False   \n",
            "4           4  1-101296-A-19.wav     1      19    thunderstorm  False   \n",
            "\n",
            "   src_file take                                         files_path  \\\n",
            "0    100032    A  /kaggle/input/environmental-sound-classificati...   \n",
            "1    100038    A  /kaggle/input/environmental-sound-classificati...   \n",
            "2    100210    A  /kaggle/input/environmental-sound-classificati...   \n",
            "3    100210    B  /kaggle/input/environmental-sound-classificati...   \n",
            "4    101296    A  /kaggle/input/environmental-sound-classificati...   \n",
            "\n",
            "   zero_crossing_rate  ...    mfcc_10    mfcc_11    mfcc_12    mfcc_13  \\\n",
            "0            0.011952  ...  -0.676718  -0.050617  -1.051819   0.645590   \n",
            "1            0.303564  ... -20.726339 -18.533272 -16.482960 -10.614421   \n",
            "2            0.385378  ...  -6.736873  19.633633  -3.546270  28.449459   \n",
            "3            0.386841  ...  -4.445976  18.834217  -3.205974  27.602684   \n",
            "4            0.045880  ... -13.565428   4.434554 -15.572582   2.263079   \n",
            "\n",
            "     mfcc_14    mfcc_15    mfcc_16   mfcc_17    mfcc_18    mfcc_19  \n",
            "0  -0.260393  -0.159993  -1.281796  0.069487  -0.281899   0.620376  \n",
            "1 -13.925037  -6.964433 -11.118065  1.713619  -8.622952  11.348335  \n",
            "2 -13.570659  11.713070  -2.816873  7.117002   0.840253   4.870029  \n",
            "3 -12.762237  11.530251  -2.151586  8.215571   1.618893   4.714815  \n",
            "4  -9.330681  -0.770855  -3.896152 -2.439542 -12.992370   0.887699  \n",
            "\n",
            "[5 rows x 36 columns]\n"
          ]
        }
      ]
    },
    {
      "cell_type": "code",
      "source": [
        "from google.colab import drive\n",
        "\n",
        "# Mount Google Drive\n",
        "drive.mount('/content/drive')"
      ],
      "metadata": {
        "colab": {
          "base_uri": "https://localhost:8080/"
        },
        "id": "7SZezYCafb6S",
        "outputId": "c13a7db1-5e56-4a92-ffe7-e6f79ed76025"
      },
      "execution_count": 8,
      "outputs": [
        {
          "output_type": "stream",
          "name": "stdout",
          "text": [
            "Mounted at /content/drive\n"
          ]
        }
      ]
    },
    {
      "cell_type": "code",
      "source": [
        "csv_path = '/content/drive/My Drive/Esc50_features_extracted.csv'  # Ganti dengan path yang tepat\n",
        "metadata = pd.read_csv(csv_path)\n",
        "print(metadata.head())  # Menampilkan beberapa baris pertama dari dataset"
      ],
      "metadata": {
        "colab": {
          "base_uri": "https://localhost:8080/"
        },
        "id": "Mmc919f9f34m",
        "outputId": "8368441d-78a5-493c-c69e-2269a25a8642"
      },
      "execution_count": 10,
      "outputs": [
        {
          "output_type": "stream",
          "name": "stdout",
          "text": [
            "   Unnamed: 0           filename  fold  target        category  esc10  \\\n",
            "0           0   1-100032-A-0.wav     1       0             dog   True   \n",
            "1           1  1-100038-A-14.wav     1      14  chirping_birds  False   \n",
            "2           2  1-100210-A-36.wav     1      36  vacuum_cleaner  False   \n",
            "3           3  1-100210-B-36.wav     1      36  vacuum_cleaner  False   \n",
            "4           4  1-101296-A-19.wav     1      19    thunderstorm  False   \n",
            "\n",
            "   src_file take                                         files_path  \\\n",
            "0    100032    A  /kaggle/input/environmental-sound-classificati...   \n",
            "1    100038    A  /kaggle/input/environmental-sound-classificati...   \n",
            "2    100210    A  /kaggle/input/environmental-sound-classificati...   \n",
            "3    100210    B  /kaggle/input/environmental-sound-classificati...   \n",
            "4    101296    A  /kaggle/input/environmental-sound-classificati...   \n",
            "\n",
            "   zero_crossing_rate  ...    mfcc_10    mfcc_11    mfcc_12    mfcc_13  \\\n",
            "0            0.011952  ...  -0.676718  -0.050617  -1.051819   0.645590   \n",
            "1            0.303564  ... -20.726339 -18.533272 -16.482960 -10.614421   \n",
            "2            0.385378  ...  -6.736873  19.633633  -3.546270  28.449459   \n",
            "3            0.386841  ...  -4.445976  18.834217  -3.205974  27.602684   \n",
            "4            0.045880  ... -13.565428   4.434554 -15.572582   2.263079   \n",
            "\n",
            "     mfcc_14    mfcc_15    mfcc_16   mfcc_17    mfcc_18    mfcc_19  \n",
            "0  -0.260393  -0.159993  -1.281796  0.069487  -0.281899   0.620376  \n",
            "1 -13.925037  -6.964433 -11.118065  1.713619  -8.622952  11.348335  \n",
            "2 -13.570659  11.713070  -2.816873  7.117002   0.840253   4.870029  \n",
            "3 -12.762237  11.530251  -2.151586  8.215571   1.618893   4.714815  \n",
            "4  -9.330681  -0.770855  -3.896152 -2.439542 -12.992370   0.887699  \n",
            "\n",
            "[5 rows x 36 columns]\n"
          ]
        }
      ]
    },
    {
      "cell_type": "code",
      "source": [
        "# Memeriksa beberapa baris pertama dari dataset\n",
        "print(metadata.head())\n",
        "\n",
        "# Memeriksa informasi dataset\n",
        "print(metadata.info())  # Menampilkan info tentang kolom dan tipe datanya"
      ],
      "metadata": {
        "colab": {
          "base_uri": "https://localhost:8080/"
        },
        "id": "nhdwQ6nBh4Ad",
        "outputId": "c658f1d4-e867-4d62-c285-bea01f7b6f12"
      },
      "execution_count": 11,
      "outputs": [
        {
          "output_type": "stream",
          "name": "stdout",
          "text": [
            "   Unnamed: 0           filename  fold  target        category  esc10  \\\n",
            "0           0   1-100032-A-0.wav     1       0             dog   True   \n",
            "1           1  1-100038-A-14.wav     1      14  chirping_birds  False   \n",
            "2           2  1-100210-A-36.wav     1      36  vacuum_cleaner  False   \n",
            "3           3  1-100210-B-36.wav     1      36  vacuum_cleaner  False   \n",
            "4           4  1-101296-A-19.wav     1      19    thunderstorm  False   \n",
            "\n",
            "   src_file take                                         files_path  \\\n",
            "0    100032    A  /kaggle/input/environmental-sound-classificati...   \n",
            "1    100038    A  /kaggle/input/environmental-sound-classificati...   \n",
            "2    100210    A  /kaggle/input/environmental-sound-classificati...   \n",
            "3    100210    B  /kaggle/input/environmental-sound-classificati...   \n",
            "4    101296    A  /kaggle/input/environmental-sound-classificati...   \n",
            "\n",
            "   zero_crossing_rate  ...    mfcc_10    mfcc_11    mfcc_12    mfcc_13  \\\n",
            "0            0.011952  ...  -0.676718  -0.050617  -1.051819   0.645590   \n",
            "1            0.303564  ... -20.726339 -18.533272 -16.482960 -10.614421   \n",
            "2            0.385378  ...  -6.736873  19.633633  -3.546270  28.449459   \n",
            "3            0.386841  ...  -4.445976  18.834217  -3.205974  27.602684   \n",
            "4            0.045880  ... -13.565428   4.434554 -15.572582   2.263079   \n",
            "\n",
            "     mfcc_14    mfcc_15    mfcc_16   mfcc_17    mfcc_18    mfcc_19  \n",
            "0  -0.260393  -0.159993  -1.281796  0.069487  -0.281899   0.620376  \n",
            "1 -13.925037  -6.964433 -11.118065  1.713619  -8.622952  11.348335  \n",
            "2 -13.570659  11.713070  -2.816873  7.117002   0.840253   4.870029  \n",
            "3 -12.762237  11.530251  -2.151586  8.215571   1.618893   4.714815  \n",
            "4  -9.330681  -0.770855  -3.896152 -2.439542 -12.992370   0.887699  \n",
            "\n",
            "[5 rows x 36 columns]\n",
            "<class 'pandas.core.frame.DataFrame'>\n",
            "RangeIndex: 2000 entries, 0 to 1999\n",
            "Data columns (total 36 columns):\n",
            " #   Column              Non-Null Count  Dtype  \n",
            "---  ------              --------------  -----  \n",
            " 0   Unnamed: 0          2000 non-null   int64  \n",
            " 1   filename            2000 non-null   object \n",
            " 2   fold                2000 non-null   int64  \n",
            " 3   target              2000 non-null   int64  \n",
            " 4   category            2000 non-null   object \n",
            " 5   esc10               2000 non-null   bool   \n",
            " 6   src_file            2000 non-null   int64  \n",
            " 7   take                2000 non-null   object \n",
            " 8   files_path          2000 non-null   object \n",
            " 9   zero_crossing_rate  2000 non-null   float64\n",
            " 10  chroma_stft         2000 non-null   float64\n",
            " 11  rmse                2000 non-null   float64\n",
            " 12  spectral_centroid   2000 non-null   float64\n",
            " 13  spectral_bandwidth  2000 non-null   float64\n",
            " 14  beat_per_minute     2000 non-null   float64\n",
            " 15  rolloff             2000 non-null   float64\n",
            " 16  mfcc_0              2000 non-null   float64\n",
            " 17  mfcc_1              2000 non-null   float64\n",
            " 18  mfcc_2              2000 non-null   float64\n",
            " 19  mfcc_3              2000 non-null   float64\n",
            " 20  mfcc_4              2000 non-null   float64\n",
            " 21  mfcc_5              2000 non-null   float64\n",
            " 22  mfcc_6              2000 non-null   float64\n",
            " 23  mfcc_7              2000 non-null   float64\n",
            " 24  mfcc_8              2000 non-null   float64\n",
            " 25  mfcc_9              2000 non-null   float64\n",
            " 26  mfcc_10             2000 non-null   float64\n",
            " 27  mfcc_11             2000 non-null   float64\n",
            " 28  mfcc_12             2000 non-null   float64\n",
            " 29  mfcc_13             2000 non-null   float64\n",
            " 30  mfcc_14             2000 non-null   float64\n",
            " 31  mfcc_15             2000 non-null   float64\n",
            " 32  mfcc_16             2000 non-null   float64\n",
            " 33  mfcc_17             2000 non-null   float64\n",
            " 34  mfcc_18             2000 non-null   float64\n",
            " 35  mfcc_19             2000 non-null   float64\n",
            "dtypes: bool(1), float64(27), int64(4), object(4)\n",
            "memory usage: 549.0+ KB\n",
            "None\n"
          ]
        }
      ]
    },
    {
      "cell_type": "code",
      "source": [
        "# Menampilkan nama-nama kolom dalam dataset\n",
        "print(metadata.columns)"
      ],
      "metadata": {
        "colab": {
          "base_uri": "https://localhost:8080/"
        },
        "id": "VdIyj7UMh5_a",
        "outputId": "e3c25a68-8fde-424f-e1d8-c2f806fbca84"
      },
      "execution_count": 12,
      "outputs": [
        {
          "output_type": "stream",
          "name": "stdout",
          "text": [
            "Index(['Unnamed: 0', 'filename', 'fold', 'target', 'category', 'esc10',\n",
            "       'src_file', 'take', 'files_path', 'zero_crossing_rate', 'chroma_stft',\n",
            "       'rmse', 'spectral_centroid', 'spectral_bandwidth', 'beat_per_minute',\n",
            "       'rolloff', 'mfcc_0', 'mfcc_1', 'mfcc_2', 'mfcc_3', 'mfcc_4', 'mfcc_5',\n",
            "       'mfcc_6', 'mfcc_7', 'mfcc_8', 'mfcc_9', 'mfcc_10', 'mfcc_11', 'mfcc_12',\n",
            "       'mfcc_13', 'mfcc_14', 'mfcc_15', 'mfcc_16', 'mfcc_17', 'mfcc_18',\n",
            "       'mfcc_19'],\n",
            "      dtype='object')\n"
          ]
        }
      ]
    },
    {
      "cell_type": "code",
      "source": [
        "# Import necessary libraries\n",
        "import pandas as pd  # For handling data in DataFrames\n",
        "import numpy as np  # For numerical operations\n",
        "import librosa  # For audio processing\n",
        "import matplotlib.pyplot as plt  # For visualization\n",
        "from sklearn.model_selection import train_test_split  # For splitting dataset\n",
        "from sklearn.preprocessing import LabelEncoder  # For encoding categorical labels\n",
        "from tensorflow.keras.models import Sequential  # For building the model\n",
        "from tensorflow.keras.layers import Conv1D, MaxPooling1D, Flatten, Dense  # For model layers"
      ],
      "metadata": {
        "id": "xqmZ3gWJlgYf"
      },
      "execution_count": 16,
      "outputs": []
    },
    {
      "cell_type": "code",
      "source": [
        "# Load the dataset that you've uploaded in Google Colab\n",
        "metadata = pd.read_csv('Esc50_features_extracted.csv')  # Ensure the filename matches what you uploaded\n",
        "print(metadata.head())  # Display the first few rows of the dataset"
      ],
      "metadata": {
        "colab": {
          "base_uri": "https://localhost:8080/"
        },
        "id": "l6rVvquuliLL",
        "outputId": "5ff3d71f-df6e-4d54-cd23-057ce7564163"
      },
      "execution_count": 17,
      "outputs": [
        {
          "output_type": "stream",
          "name": "stdout",
          "text": [
            "   Unnamed: 0           filename  fold  target        category  esc10  \\\n",
            "0           0   1-100032-A-0.wav     1       0             dog   True   \n",
            "1           1  1-100038-A-14.wav     1      14  chirping_birds  False   \n",
            "2           2  1-100210-A-36.wav     1      36  vacuum_cleaner  False   \n",
            "3           3  1-100210-B-36.wav     1      36  vacuum_cleaner  False   \n",
            "4           4  1-101296-A-19.wav     1      19    thunderstorm  False   \n",
            "\n",
            "   src_file take                                         files_path  \\\n",
            "0    100032    A  /kaggle/input/environmental-sound-classificati...   \n",
            "1    100038    A  /kaggle/input/environmental-sound-classificati...   \n",
            "2    100210    A  /kaggle/input/environmental-sound-classificati...   \n",
            "3    100210    B  /kaggle/input/environmental-sound-classificati...   \n",
            "4    101296    A  /kaggle/input/environmental-sound-classificati...   \n",
            "\n",
            "   zero_crossing_rate  ...    mfcc_10    mfcc_11    mfcc_12    mfcc_13  \\\n",
            "0            0.011952  ...  -0.676718  -0.050617  -1.051819   0.645590   \n",
            "1            0.303564  ... -20.726339 -18.533272 -16.482960 -10.614421   \n",
            "2            0.385378  ...  -6.736873  19.633633  -3.546270  28.449459   \n",
            "3            0.386841  ...  -4.445976  18.834217  -3.205974  27.602684   \n",
            "4            0.045880  ... -13.565428   4.434554 -15.572582   2.263079   \n",
            "\n",
            "     mfcc_14    mfcc_15    mfcc_16   mfcc_17    mfcc_18    mfcc_19  \n",
            "0  -0.260393  -0.159993  -1.281796  0.069487  -0.281899   0.620376  \n",
            "1 -13.925037  -6.964433 -11.118065  1.713619  -8.622952  11.348335  \n",
            "2 -13.570659  11.713070  -2.816873  7.117002   0.840253   4.870029  \n",
            "3 -12.762237  11.530251  -2.151586  8.215571   1.618893   4.714815  \n",
            "4  -9.330681  -0.770855  -3.896152 -2.439542 -12.992370   0.887699  \n",
            "\n",
            "[5 rows x 36 columns]\n"
          ]
        }
      ]
    },
    {
      "cell_type": "code",
      "source": [
        "# Extracting features and labels\n",
        "feature_columns = [f'mfcc_{i}' for i in range(20)]  # Assume 20 MFCC features exist\n",
        "X = metadata[feature_columns].values  # Get the MFCC features in a numpy array\n",
        "y = metadata['category'].values  # Get the audio categories as numpy array"
      ],
      "metadata": {
        "id": "TZ4NIWQWlo8O"
      },
      "execution_count": 18,
      "outputs": []
    },
    {
      "cell_type": "code",
      "source": [
        "# Convert categorical labels to numerical values\n",
        "le = LabelEncoder()  # Create a LabelEncoder instance\n",
        "y_encoded = le.fit_transform(y)  # Fit and transform the category labels"
      ],
      "metadata": {
        "id": "0TrhAcGylxxp"
      },
      "execution_count": 19,
      "outputs": []
    },
    {
      "cell_type": "code",
      "source": [
        "# Reshaping data for Conv1D\n",
        "X = X.reshape(len(X), 20, 1)  # Assuming 20 MFCC features, reshape to (samples, features, channels)"
      ],
      "metadata": {
        "id": "wecxpEiClpA9"
      },
      "execution_count": 20,
      "outputs": []
    },
    {
      "cell_type": "code",
      "source": [
        "# Build the CNN model using Conv1D\n",
        "model = Sequential()  # Create a Sequential model\n",
        "model.add(Conv1D(32, kernel_size=3, activation='relu', input_shape=(20, 1)))  # Input shape for Conv1D\n",
        "model.add(MaxPooling1D(pool_size=2))  # Max pooling layer\n",
        "model.add(Flatten())  # Flatten the output for the dense layer\n",
        "model.add(Dense(64, activation='relu'))  # Dense layer with 64 units\n",
        "model.add(Dense(len(np.unique(y_encoded)), activation='softmax'))  # Output layer for classification\n",
        "\n",
        "# Compile the model\n",
        "model.compile(optimizer='adam', loss='sparse_categorical_crossentropy', metrics=['accuracy'])"
      ],
      "metadata": {
        "colab": {
          "base_uri": "https://localhost:8080/"
        },
        "id": "_f6okoC8lpGq",
        "outputId": "21b0a8f0-0c4f-4498-c2cb-bf6e0b46a24c"
      },
      "execution_count": 21,
      "outputs": [
        {
          "output_type": "stream",
          "name": "stderr",
          "text": [
            "/usr/local/lib/python3.11/dist-packages/keras/src/layers/convolutional/base_conv.py:107: UserWarning: Do not pass an `input_shape`/`input_dim` argument to a layer. When using Sequential models, prefer using an `Input(shape)` object as the first layer in the model instead.\n",
            "  super().__init__(activity_regularizer=activity_regularizer, **kwargs)\n"
          ]
        }
      ]
    },
    {
      "cell_type": "code",
      "source": [
        "# Split the dataset into training and testing sets\n",
        "X_train, X_test, y_train, y_test = train_test_split(X, y_encoded, test_size=0.2, random_state=42)\n",
        "\n",
        "# Train the model\n",
        "history = model.fit(X_train, y_train, epochs=10, batch_size=32, validation_data=(X_test, y_test))"
      ],
      "metadata": {
        "colab": {
          "base_uri": "https://localhost:8080/"
        },
        "id": "0m3l2nnRmFUk",
        "outputId": "c742b5c4-0746-45e6-809a-768d5e24e8a9"
      },
      "execution_count": 22,
      "outputs": [
        {
          "output_type": "stream",
          "name": "stdout",
          "text": [
            "Epoch 1/10\n",
            "\u001b[1m50/50\u001b[0m \u001b[32m━━━━━━━━━━━━━━━━━━━━\u001b[0m\u001b[37m\u001b[0m \u001b[1m2s\u001b[0m 9ms/step - accuracy: 0.0315 - loss: 14.1138 - val_accuracy: 0.0500 - val_loss: 4.2324\n",
            "Epoch 2/10\n",
            "\u001b[1m50/50\u001b[0m \u001b[32m━━━━━━━━━━━━━━━━━━━━\u001b[0m\u001b[37m\u001b[0m \u001b[1m0s\u001b[0m 4ms/step - accuracy: 0.0795 - loss: 3.7455 - val_accuracy: 0.1200 - val_loss: 3.5440\n",
            "Epoch 3/10\n",
            "\u001b[1m50/50\u001b[0m \u001b[32m━━━━━━━━━━━━━━━━━━━━\u001b[0m\u001b[37m\u001b[0m \u001b[1m0s\u001b[0m 4ms/step - accuracy: 0.1901 - loss: 3.1721 - val_accuracy: 0.1775 - val_loss: 3.2444\n",
            "Epoch 4/10\n",
            "\u001b[1m50/50\u001b[0m \u001b[32m━━━━━━━━━━━━━━━━━━━━\u001b[0m\u001b[37m\u001b[0m \u001b[1m0s\u001b[0m 4ms/step - accuracy: 0.2409 - loss: 2.8873 - val_accuracy: 0.1650 - val_loss: 3.0695\n",
            "Epoch 5/10\n",
            "\u001b[1m50/50\u001b[0m \u001b[32m━━━━━━━━━━━━━━━━━━━━\u001b[0m\u001b[37m\u001b[0m \u001b[1m0s\u001b[0m 4ms/step - accuracy: 0.2768 - loss: 2.6758 - val_accuracy: 0.2275 - val_loss: 2.9045\n",
            "Epoch 6/10\n",
            "\u001b[1m50/50\u001b[0m \u001b[32m━━━━━━━━━━━━━━━━━━━━\u001b[0m\u001b[37m\u001b[0m \u001b[1m0s\u001b[0m 5ms/step - accuracy: 0.2896 - loss: 2.5606 - val_accuracy: 0.2300 - val_loss: 2.8655\n",
            "Epoch 7/10\n",
            "\u001b[1m50/50\u001b[0m \u001b[32m━━━━━━━━━━━━━━━━━━━━\u001b[0m\u001b[37m\u001b[0m \u001b[1m0s\u001b[0m 5ms/step - accuracy: 0.3338 - loss: 2.3749 - val_accuracy: 0.2575 - val_loss: 2.8406\n",
            "Epoch 8/10\n",
            "\u001b[1m50/50\u001b[0m \u001b[32m━━━━━━━━━━━━━━━━━━━━\u001b[0m\u001b[37m\u001b[0m \u001b[1m0s\u001b[0m 7ms/step - accuracy: 0.3213 - loss: 2.3241 - val_accuracy: 0.2725 - val_loss: 2.7552\n",
            "Epoch 9/10\n",
            "\u001b[1m50/50\u001b[0m \u001b[32m━━━━━━━━━━━━━━━━━━━━\u001b[0m\u001b[37m\u001b[0m \u001b[1m0s\u001b[0m 6ms/step - accuracy: 0.3780 - loss: 2.1921 - val_accuracy: 0.2675 - val_loss: 2.7083\n",
            "Epoch 10/10\n",
            "\u001b[1m50/50\u001b[0m \u001b[32m━━━━━━━━━━━━━━━━━━━━\u001b[0m\u001b[37m\u001b[0m \u001b[1m1s\u001b[0m 8ms/step - accuracy: 0.3949 - loss: 2.1384 - val_accuracy: 0.2825 - val_loss: 2.6881\n"
          ]
        }
      ]
    },
    {
      "cell_type": "code",
      "source": [
        "# Evaluate the model\n",
        "loss, accuracy = model.evaluate(X_test, y_test)\n",
        "print(f'Loss: {loss}, Accuracy: {accuracy}')"
      ],
      "metadata": {
        "colab": {
          "base_uri": "https://localhost:8080/"
        },
        "id": "TKdwr20qmMcb",
        "outputId": "c0cc9fe4-99a6-4a32-b474-e260b60aa966"
      },
      "execution_count": 23,
      "outputs": [
        {
          "output_type": "stream",
          "name": "stdout",
          "text": [
            "\u001b[1m13/13\u001b[0m \u001b[32m━━━━━━━━━━━━━━━━━━━━\u001b[0m\u001b[37m\u001b[0m \u001b[1m0s\u001b[0m 4ms/step - accuracy: 0.2898 - loss: 2.7488 \n",
            "Loss: 2.6881418228149414, Accuracy: 0.2824999988079071\n"
          ]
        }
      ]
    },
    {
      "cell_type": "code",
      "source": [
        "# Visualizing accuracy and loss\n",
        "plt.figure(figsize=(12, 5))\n",
        "\n",
        "# Plot accuracy\n",
        "plt.subplot(1, 2, 1)\n",
        "plt.plot(history.history['accuracy'], label='Akurasi (Training)')\n",
        "plt.plot(history.history['val_accuracy'], label='Akurasi (Validasi)')\n",
        "plt.title('Akurasi Model')\n",
        "plt.ylabel('Akurasi')\n",
        "plt.xlabel('Epoch')\n",
        "plt.legend()\n",
        "\n",
        "# Plot loss\n",
        "plt.subplot(1, 2, 2)\n",
        "plt.plot(history.history['loss'], label='Loss (Training)')\n",
        "plt.plot(history.history['val_loss'], label='Loss (Validasi)')\n",
        "plt.title('Loss Model')\n",
        "plt.ylabel('Loss')\n",
        "plt.xlabel('Epoch')\n",
        "plt.legend()\n",
        "\n",
        "plt.tight_layout()\n",
        "plt.show()"
      ],
      "metadata": {
        "colab": {
          "base_uri": "https://localhost:8080/",
          "height": 507
        },
        "id": "CNZpBLErmUQ6",
        "outputId": "9cc040d2-5f27-4e9d-a2bb-1be828029a9a"
      },
      "execution_count": 24,
      "outputs": [
        {
          "output_type": "display_data",
          "data": {
            "text/plain": [
              "<Figure size 1200x500 with 2 Axes>"
            ],
            "image/png": "[encoded data removed]"
          },
          "metadata": {}
        }
      ]
    }
  ],
  "metadata": {
    "colab": {
      "provenance": [],
      "authorship_tag": "ABX9TyOwv+3rRikDaCQ5ODLbp6lW",
      "include_colab_link": true
    },
    "kernelspec": {
      "display_name": "Python 3",
      "name": "python3"
    },
    "language_info": {
      "name": "python"
    }
  },
  "nbformat": 4,
  "nbformat_minor": 0
}